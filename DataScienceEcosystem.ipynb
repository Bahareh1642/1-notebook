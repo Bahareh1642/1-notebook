{
 "cells": [
  {
   "cell_type": "markdown",
   "id": "9775e36b-ee76-4f5e-bb45-d03bf3a98bc3",
   "metadata": {},
   "source": [
    "# Data Science Tools and Ecosystem"
   ]
  },
  {
   "cell_type": "markdown",
   "id": "fc2d8ff2-cb70-486b-82bb-2c09ea750ca3",
   "metadata": {},
   "source": [
    "In this notebook, Data Science Tools and Ecosystem are summarized."
   ]
  },
  {
   "cell_type": "markdown",
   "id": "4f112abe-7d95-4052-89b6-68e460efa6f2",
   "metadata": {},
   "source": [
    "Some of the popular languages that Data Scientists use are:\n",
    "1. Python  \n",
    "2. R  \n",
    "3. SQL  \n",
    "4. Julia  \n",
    "5. Scala  \n",
    "6. Java  \n",
    "7. MATLAB"
   ]
  },
  {
   "cell_type": "markdown",
   "id": "59b9962c-5da4-4ad9-a5ed-52d8ae788aa4",
   "metadata": {},
   "source": [
    "Some of the commonly used libraries used by Data Scientists include:\n",
    "1. NumPy  \n",
    "2. Pandas  \n",
    "3. Matplotlib"
   ]
  },
  {
   "cell_type": "markdown",
   "id": "45a32be1-3389-49fc-8f47-673fee1ca4c4",
   "metadata": {},
   "source": [
    "| Data Science Tools       |\n",
    "|---------------------------|\n",
    "| Jupyter Notebook          |\n",
    "| RStudio                   |\n",
    "| Google Colab              |"
   ]
  },
  {
   "cell_type": "markdown",
   "id": "a8d172b1-9347-4cd4-a7fa-e9b3266c5e7e",
   "metadata": {},
   "source": [
    "### Below are a few examples of evaluating arithmetic expressions in Python"
   ]
  },
  {
   "cell_type": "code",
   "execution_count": 12,
   "id": "cc86bf4d-beb1-4359-9532-6e2b2b117630",
   "metadata": {},
   "outputs": [
    {
     "data": {
      "text/plain": [
       "17"
      ]
     },
     "execution_count": 12,
     "metadata": {},
     "output_type": "execute_result"
    }
   ],
   "source": [
    "# This a simple arithmetic expression to mutiply then add integers\n",
    "(3*4)+5"
   ]
  },
  {
   "cell_type": "code",
   "execution_count": 14,
   "id": "614f3721-88a0-44c2-b992-de310013523d",
   "metadata": {},
   "outputs": [
    {
     "data": {
      "text/plain": [
       "3.3333333333333335"
      ]
     },
     "execution_count": 14,
     "metadata": {},
     "output_type": "execute_result"
    }
   ],
   "source": [
    "# This will convert 200 minutes to hours by diving by 60\n",
    "200 / 60"
   ]
  },
  {
   "cell_type": "markdown",
   "id": "3a70fedc-c5e8-41b4-8ccd-e84b9a338641",
   "metadata": {},
   "source": [
    "**Objectives**\n",
    "\n",
    "- List popular languages for Data Science\n",
    "- Identify key data science libraries\n",
    "- Explore development environment tools used in data science\n",
    "- Evaluate basic arithmetic expressions\n",
    "- Convert minutes to hours"
   ]
  },
  {
   "cell_type": "markdown",
   "id": "65b01fb9-0c82-4547-8d51-d9d7760d2d3d",
   "metadata": {},
   "source": [
    "## Author\n",
    "Bahareh Azad"
   ]
  },
  {
   "cell_type": "code",
   "execution_count": null,
   "id": "615baea8-4e4f-404b-bd1b-0f5518499399",
   "metadata": {},
   "outputs": [],
   "source": []
  }
 ],
 "metadata": {
  "kernelspec": {
   "display_name": "Python 3 (ipykernel)",
   "language": "python",
   "name": "python3"
  },
  "language_info": {
   "codemirror_mode": {
    "name": "ipython",
    "version": 3
   },
   "file_extension": ".py",
   "mimetype": "text/x-python",
   "name": "python",
   "nbconvert_exporter": "python",
   "pygments_lexer": "ipython3",
   "version": "3.12.4"
  }
 },
 "nbformat": 4,
 "nbformat_minor": 5
}
